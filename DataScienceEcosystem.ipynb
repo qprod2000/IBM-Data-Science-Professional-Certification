{
 "cells": [
  {
   "cell_type": "markdown",
   "id": "b1276e27-bb96-44d0-81df-9af97ce03f83",
   "metadata": {},
   "source": [
    "# Data Science Tools and Ecosystem"
   ]
  },
  {
   "cell_type": "markdown",
   "id": "d393502a-c539-4edb-9f7f-bab533125a5b",
   "metadata": {},
   "source": [
    "In this notebook, Data Science Tools and Ecosystem are summarized."
   ]
  },
  {
   "cell_type": "markdown",
   "id": "30bdb6df-de5d-4b55-8a15-1fea5012ba20",
   "metadata": {},
   "source": [
    "Objectives:\n",
    "- List of Data Science Tools\n",
    "- List of Languages for Data Science\n",
    "- Using of Libraries, APIs, Datasets and Models\n",
    "- Using of Jupyter Notebooks and JupyterLab\n",
    "- Using of RStudio IDE and Github"
   ]
  },
  {
   "cell_type": "markdown",
   "id": "413cfa5c-ee4a-457b-ac8d-226809434e27",
   "metadata": {},
   "source": [
    "Some of the popular languages that Data Scientists use are:\n",
    "1. Python\n",
    "2. R\n",
    "3. Scala"
   ]
  },
  {
   "cell_type": "markdown",
   "id": "7caf22d7-a0fc-46ca-877b-ab8b4fb67e5e",
   "metadata": {},
   "source": [
    "Some of the commonly used libraries used by Data Scientists include:\n",
    "1. Pandas\n",
    "2. NumPy\n",
    "3. MatPlotLib"
   ]
  },
  {
   "cell_type": "markdown",
   "id": "203e146d-9d5b-46ae-808f-a41626f706ba",
   "metadata": {},
   "source": [
    "| Data Science Tools |\n",
    "| ------------------ |\n",
    "| JupyterLab |\n",
    "| RStudio |\n",
    "| Visual Studio Code |"
   ]
  },
  {
   "cell_type": "markdown",
   "id": "f89291f6-a23c-4411-bf0a-f25a27442d51",
   "metadata": {},
   "source": [
    "### Below are a few examples of evaluating arithmetic expressions in Python"
   ]
  },
  {
   "cell_type": "code",
   "execution_count": 1,
   "id": "67db811e-299d-4e7f-878f-51ff2ee818f5",
   "metadata": {},
   "outputs": [
    {
     "data": {
      "text/plain": [
       "17"
      ]
     },
     "execution_count": 1,
     "metadata": {},
     "output_type": "execute_result"
    }
   ],
   "source": [
    "# This a simple arithmetic expression to multiply then add integers\n",
    "(3*4)+5"
   ]
  },
  {
   "cell_type": "code",
   "execution_count": 2,
   "id": "6bfb5f14-0b6a-49e4-9d1d-cf773ec50e20",
   "metadata": {},
   "outputs": [
    {
     "data": {
      "text/plain": [
       "3.3333333333333335"
      ]
     },
     "execution_count": 2,
     "metadata": {},
     "output_type": "execute_result"
    }
   ],
   "source": [
    "# This will convert 200 minutes to hours by dividing by 60\n",
    "200/60"
   ]
  },
  {
   "cell_type": "markdown",
   "id": "e91a582d-8b95-4c51-8a01-9f248a551676",
   "metadata": {},
   "source": [
    "## Author\n",
    "Hengkie Wirawijaya"
   ]
  },
  {
   "cell_type": "code",
   "execution_count": null,
   "id": "c9319691-6b3d-4bd9-a850-8ca712e03f87",
   "metadata": {},
   "outputs": [],
   "source": []
  }
 ],
 "metadata": {
  "kernelspec": {
   "display_name": "Python",
   "language": "python",
   "name": "conda-env-python-py"
  },
  "language_info": {
   "codemirror_mode": {
    "name": "ipython",
    "version": 3
   },
   "file_extension": ".py",
   "mimetype": "text/x-python",
   "name": "python",
   "nbconvert_exporter": "python",
   "pygments_lexer": "ipython3",
   "version": "3.7.12"
  }
 },
 "nbformat": 4,
 "nbformat_minor": 5
}
